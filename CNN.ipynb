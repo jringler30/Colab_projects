{
  "nbformat": 4,
  "nbformat_minor": 0,
  "metadata": {
    "colab": {
      "provenance": [],
      "authorship_tag": "ABX9TyMzwDFVH2P4SZdKT7p80OlI",
      "include_colab_link": true
    },
    "kernelspec": {
      "name": "python3",
      "display_name": "Python 3"
    },
    "language_info": {
      "name": "python"
    }
  },
  "cells": [
    {
      "cell_type": "markdown",
      "metadata": {
        "id": "view-in-github",
        "colab_type": "text"
      },
      "source": [
        "<a href=\"https://colab.research.google.com/github/jringler30/Colab_projects/blob/main/CNN.ipynb\" target=\"_parent\"><img src=\"https://colab.research.google.com/assets/colab-badge.svg\" alt=\"Open In Colab\"/></a>"
      ]
    },
    {
      "cell_type": "code",
      "execution_count": null,
      "metadata": {
        "id": "DR0HakTEOtxs"
      },
      "outputs": [],
      "source": [
        "import tensorflow as tf\n",
        "import numpy as np"
      ]
    },
    {
      "cell_type": "code",
      "source": [
        "custom_kernel = np.array([[1, 0, -1],\n",
        "                          [1, 0, -1],\n",
        "                          [1, 0, -1]], dtype=np.float32)"
      ],
      "metadata": {
        "id": "GRMOp1uHOv3r"
      },
      "execution_count": null,
      "outputs": []
    },
    {
      "cell_type": "code",
      "source": [
        "custom_kernel = custom_kernel.reshape((3, 3, 1, 1))  # Shape: (3 height,3 width,1 input channels,1 output channesl)"
      ],
      "metadata": {
        "id": "M8-tAZWYO4qp"
      },
      "execution_count": null,
      "outputs": []
    },
    {
      "cell_type": "code",
      "source": [
        "conv_layer = tf.keras.layers.Conv2D(filters=1, kernel_size=(3,3), use_bias=False)"
      ],
      "metadata": {
        "id": "BKDIuUFUO9Sa"
      },
      "execution_count": null,
      "outputs": []
    },
    {
      "cell_type": "code",
      "source": [
        "conv_layer.build(input_shape=(None, 5, 5, 1))  # Define input shape: (batch_size, height, width, channels)"
      ],
      "metadata": {
        "id": "-8kqxjHiO_JX"
      },
      "execution_count": null,
      "outputs": []
    },
    {
      "cell_type": "code",
      "source": [
        "conv_layer.set_weights([custom_kernel])"
      ],
      "metadata": {
        "id": "31dOIg__PAvC"
      },
      "execution_count": null,
      "outputs": []
    },
    {
      "cell_type": "code",
      "source": [
        "# Sample 5x5 grayscale image (random example)\n",
        "input_image = np.array([[1, 2, 3, 0, 1],\n",
        "                         [4, 5, 6, 1, 2],\n",
        "                         [7, 8, 9, 2, 3],\n",
        "                         [1, 2, 3, 4, 5],\n",
        "                         [6, 7, 8, 9, 0]], dtype=np.float32)\n",
        "\n",
        "# Reshape to match Keras input format: (batch_size, height, width, channels)\n",
        "input_image = input_image.reshape((1, 5, 5, 1))\n",
        "\n",
        "# Apply convolution\n",
        "output_feature_map = conv_layer(input_image)\n",
        "\n",
        "# Convert result to numpy\n",
        "output_feature_map = output_feature_map.numpy().squeeze()  # Remove extra dimensions for readability\n",
        "print(\"Feature Map:\\n\", output_feature_map)"
      ],
      "metadata": {
        "colab": {
          "base_uri": "https://localhost:8080/"
        },
        "id": "Nn3j-ZvUPCpo",
        "outputId": "201c7cc4-7ca5-45c2-e86f-096c521dbe0e"
      },
      "execution_count": null,
      "outputs": [
        {
          "output_type": "stream",
          "name": "stdout",
          "text": [
            "Feature Map:\n",
            " [[-6. 12. 12.]\n",
            " [-6.  8.  8.]\n",
            " [-6.  2. 12.]]\n"
          ]
        }
      ]
    }
  ]
}